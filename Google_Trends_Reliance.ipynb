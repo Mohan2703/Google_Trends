{
 "cells": [
  {
   "cell_type": "code",
   "execution_count": 1,
   "id": "f01f1767",
   "metadata": {},
   "outputs": [
    {
     "name": "stdout",
     "output_type": "stream",
     "text": [
      "Defaulting to user installation because normal site-packages is not writeable\n",
      "Requirement already satisfied: pytrends in c:\\users\\mohan\\appdata\\roaming\\python\\python311\\site-packages (4.9.2)\n",
      "Requirement already satisfied: requests>=2.0 in c:\\users\\mohan\\appdata\\roaming\\python\\python311\\site-packages (from pytrends) (2.32.4)\n",
      "Requirement already satisfied: pandas>=0.25 in c:\\users\\mohan\\appdata\\roaming\\python\\python311\\site-packages (from pytrends) (2.3.1)\n",
      "Requirement already satisfied: lxml in c:\\users\\mohan\\appdata\\roaming\\python\\python311\\site-packages (from pytrends) (6.0.0)\n",
      "Requirement already satisfied: numpy>=1.23.2 in c:\\users\\mohan\\appdata\\roaming\\python\\python311\\site-packages (from pandas>=0.25->pytrends) (2.3.2)\n",
      "Requirement already satisfied: python-dateutil>=2.8.2 in c:\\users\\mohan\\appdata\\roaming\\python\\python311\\site-packages (from pandas>=0.25->pytrends) (2.9.0.post0)\n",
      "Requirement already satisfied: pytz>=2020.1 in c:\\users\\mohan\\appdata\\roaming\\python\\python311\\site-packages (from pandas>=0.25->pytrends) (2025.2)\n",
      "Requirement already satisfied: tzdata>=2022.7 in c:\\users\\mohan\\appdata\\roaming\\python\\python311\\site-packages (from pandas>=0.25->pytrends) (2025.2)\n",
      "Requirement already satisfied: six>=1.5 in c:\\users\\mohan\\appdata\\roaming\\python\\python311\\site-packages (from python-dateutil>=2.8.2->pandas>=0.25->pytrends) (1.17.0)\n",
      "Requirement already satisfied: charset_normalizer<4,>=2 in c:\\users\\mohan\\appdata\\roaming\\python\\python311\\site-packages (from requests>=2.0->pytrends) (3.4.2)\n",
      "Requirement already satisfied: idna<4,>=2.5 in c:\\users\\mohan\\appdata\\roaming\\python\\python311\\site-packages (from requests>=2.0->pytrends) (3.10)\n",
      "Requirement already satisfied: urllib3<3,>=1.21.1 in c:\\users\\mohan\\appdata\\roaming\\python\\python311\\site-packages (from requests>=2.0->pytrends) (2.5.0)\n",
      "Requirement already satisfied: certifi>=2017.4.17 in c:\\users\\mohan\\appdata\\roaming\\python\\python311\\site-packages (from requests>=2.0->pytrends) (2025.7.14)\n",
      "Note: you may need to restart the kernel to use updated packages.\n"
     ]
    },
    {
     "name": "stderr",
     "output_type": "stream",
     "text": [
      "\n",
      "[notice] A new release of pip is available: 25.1.1 -> 25.2\n",
      "[notice] To update, run: python.exe -m pip install --upgrade pip\n"
     ]
    }
   ],
   "source": [
    "%pip install pytrends"
   ]
  },
  {
   "cell_type": "code",
   "execution_count": null,
   "id": "79a4e64c",
   "metadata": {},
   "outputs": [
    {
     "name": "stdout",
     "output_type": "stream",
     "text": [
      "[Retry 1/5] Error: The request failed: Google returned a response with code 429. Waiting 18s before retrying...\n",
      "[Retry 2/5] Error: The request failed: Google returned a response with code 429. Waiting 50s before retrying...\n"
     ]
    }
   ],
   "source": [
    "from pytrends.request import TrendReq\n",
    "import pandas as pd\n",
    "import time\n",
    "import random\n",
    "\n",
    "# Safe wrapper for build_payload with retries and backoff\n",
    "def safe_build_payload(pytrends, kw_list, timeframe, geo, cat=0, max_retries=5):\n",
    "    for attempt in range(max_retries):\n",
    "        try:\n",
    "            pytrends.build_payload(kw_list=kw_list, timeframe=timeframe, geo=geo, cat=cat)\n",
    "            return True\n",
    "        except Exception as e:\n",
    "            wait_time = random.randint(15, 30) * (attempt + 1)  # exponential backoff\n",
    "            print(f\"[Retry {attempt+1}/{max_retries}] Error: {e}. Waiting {wait_time}s before retrying...\")\n",
    "            time.sleep(wait_time)\n",
    "    raise Exception(\"Max retries reached. Google is blocking the requests.\")\n",
    "\n",
    "# ---------- Setup ----------\n",
    "pytrends = TrendReq(hl='en-GB', tz=330)\n",
    "keywords = ['reliance infra share price']\n",
    "timeframe = 'now 7-d'  # Last 7 days\n",
    "geo = 'IN'\n",
    "\n",
    "# ---------- Interest over time ----------\n",
    "safe_build_payload(pytrends, keywords, timeframe, geo)\n",
    "interest_over_time = pytrends.interest_over_time()\n",
    "if 'isPartial' in interest_over_time.columns:\n",
    "    interest_over_time = interest_over_time.drop(columns=['isPartial'])\n",
    "interest_over_time.reset_index(inplace=True)\n",
    "\n",
    "# ---------- Interest by region ----------\n",
    "time.sleep(random.randint(10, 20))  # Delay to avoid immediate next request\n",
    "safe_build_payload(pytrends, keywords, timeframe, geo)\n",
    "interest_by_region = pytrends.interest_by_region(resolution='REGION', inc_low_vol=True).reset_index()\n",
    "\n",
    "# ---------- Interest by categories ----------\n",
    "categories = {\n",
    "    0: 'All Categories',\n",
    "    34: 'Arts & Entertainment',\n",
    "    3: 'Business',\n",
    "    5: 'Computers & Electronics',\n",
    "    7: 'Finance',\n",
    "    13: 'Sports'\n",
    "}\n",
    "\n",
    "category_data = []\n",
    "for cat_id, cat_name in categories.items():\n",
    "    for attempt in range(3):  # retry 3 times per category\n",
    "        try:\n",
    "            safe_build_payload(pytrends, keywords, timeframe, geo, cat=cat_id)\n",
    "            df = pytrends.interest_over_time().drop(columns='isPartial', errors='ignore').reset_index()\n",
    "            df['Category'] = cat_name\n",
    "            category_data.append(df)\n",
    "            print(f\"Fetched category: {cat_name}\")\n",
    "            break\n",
    "        except Exception as e:\n",
    "            print(f\"Error fetching category {cat_name} (attempt {attempt+1}): {e}\")\n",
    "            time.sleep(10 * (attempt + 1))\n",
    "    time.sleep(random.randint(10, 20))  # random delay between categories\n",
    "\n",
    "interest_by_category = pd.concat(category_data, ignore_index=True)\n",
    "\n",
    "# ---------- Save to CSV ----------\n",
    "interest_over_time.to_csv('reliance_trends_time.csv', index=False)\n",
    "interest_by_region.to_csv('reliance_trends_region.csv', index=False)\n",
    "interest_by_category.to_csv('reliance_trends_category.csv', index=False)\n",
    "\n",
    "print(\"Data extraction complete.\")\n",
    "print(\"\\nInterest Over Time sample:\")\n",
    "print(interest_over_time.head())\n",
    "print(\"\\nInterest by Region sample:\")\n",
    "print(interest_by_region.head())\n",
    "print(\"\\nInterest by Category sample:\")\n",
    "print(interest_by_category.head())\n"
   ]
  }
 ],
 "metadata": {
  "kernelspec": {
   "display_name": "Python 3",
   "language": "python",
   "name": "python3"
  },
  "language_info": {
   "codemirror_mode": {
    "name": "ipython",
    "version": 3
   },
   "file_extension": ".py",
   "mimetype": "text/x-python",
   "name": "python",
   "nbconvert_exporter": "python",
   "pygments_lexer": "ipython3",
   "version": "3.11.9"
  }
 },
 "nbformat": 4,
 "nbformat_minor": 5
}
